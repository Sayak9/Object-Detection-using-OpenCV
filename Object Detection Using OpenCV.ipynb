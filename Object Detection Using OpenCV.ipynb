{
 "cells": [
  {
   "cell_type": "code",
   "execution_count": 1,
   "id": "7c29faff",
   "metadata": {},
   "outputs": [
    {
     "name": "stdout",
     "output_type": "stream",
     "text": [
      "Number of boxes: 31\n"
     ]
    }
   ],
   "source": [
    "import cv2\n",
    "\n",
    "# Loading the image\n",
    "image = cv2.imread(\"1.jpg\")\n",
    "\n",
    "# Converting to grayscale\n",
    "gray = cv2.cvtColor(image, cv2.COLOR_BGR2GRAY)\n",
    "\n",
    "# Applying Canny edge detection\n",
    "edges = cv2.Canny(gray, 50, 150)\n",
    "\n",
    "# Finding contours\n",
    "contours, _ = cv2.findContours(edges, cv2.RETR_EXTERNAL, cv2.CHAIN_APPROX_SIMPLE)\n",
    "\n",
    "# Initializing box count\n",
    "box_count = 0\n",
    "\n",
    "# Filtering contours and count boxes\n",
    "for contour in contours:\n",
    "    # Filter based on area and aspect ratio (adjust thresholds as needed)\n",
    "    area = cv2.contourArea(contour)\n",
    "    if 100 < area < 5000:\n",
    "        x, y, w, h = cv2.boundingRect(contour)\n",
    "        if 0.8 < w / h < 1.2:\n",
    "            box_count += 1\n",
    "            # Optional: Draw bounding box on the image\n",
    "            cv2.rectangle(image, (x, y), (x + w, y + h), (0, 255, 0), 2)\n",
    "\n",
    "\n",
    "print(f\"Number of boxes: {box_count}\")\n",
    "\n"
   ]
  },
  {
   "cell_type": "code",
   "execution_count": null,
   "id": "587f97fb",
   "metadata": {},
   "outputs": [],
   "source": []
  }
 ],
 "metadata": {
  "kernelspec": {
   "display_name": "Python 3 (ipykernel)",
   "language": "python",
   "name": "python3"
  },
  "language_info": {
   "codemirror_mode": {
    "name": "ipython",
    "version": 3
   },
   "file_extension": ".py",
   "mimetype": "text/x-python",
   "name": "python",
   "nbconvert_exporter": "python",
   "pygments_lexer": "ipython3",
   "version": "3.9.18"
  }
 },
 "nbformat": 4,
 "nbformat_minor": 5
}
